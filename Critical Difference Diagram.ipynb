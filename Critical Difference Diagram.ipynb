{
 "cells": [
  {
   "cell_type": "markdown",
   "metadata": {},
   "source": [
    "### Source: \n",
    "\n",
    "https://github.com/hfawaz/cd-diagram"
   ]
  },
  {
   "cell_type": "code",
   "execution_count": 1,
   "metadata": {},
   "outputs": [],
   "source": [
    "import pandas as pd\n",
    "import numpy as np\n",
    "from criticaldifference import CriticalDifference"
   ]
  },
  {
   "cell_type": "code",
   "execution_count": 2,
   "metadata": {},
   "outputs": [],
   "source": [
    "# df_perf = pd.read_csv('example.csv',index_col=False)\n",
    "# df_perf.head(20)"
   ]
  },
  {
   "cell_type": "code",
   "execution_count": 3,
   "metadata": {},
   "outputs": [],
   "source": [
    "# cd = CriticalDifference()\n",
    "# cd.draw_cd_diagram(df_perf=df_perf, title='Accuracy', labels=True)"
   ]
  },
  {
   "cell_type": "code",
   "execution_count": 4,
   "metadata": {},
   "outputs": [
    {
     "data": {
      "text/plain": [
       "(6, 46)"
      ]
     },
     "execution_count": 4,
     "metadata": {},
     "output_type": "execute_result"
    }
   ],
   "source": [
    "data = np.random.rand(6,46)\n",
    "data.shape"
   ]
  },
  {
   "cell_type": "code",
   "execution_count": 5,
   "metadata": {},
   "outputs": [
    {
     "data": {
      "text/plain": [
       "46"
      ]
     },
     "execution_count": 5,
     "metadata": {},
     "output_type": "execute_result"
    }
   ],
   "source": [
    "data.shape[1]"
   ]
  },
  {
   "cell_type": "code",
   "execution_count": 6,
   "metadata": {},
   "outputs": [],
   "source": [
    "mod_list = ['model'+str(i+1) for i in range(data.shape[0])]\n",
    "dset_list = ['dataset'+str(i+1) for i in range(data.shape[1])]\n",
    "measure = 'accuracy'\n",
    "\n",
    "rows = []\n",
    "for i, row in enumerate(data):\n",
    "    for j, col in enumerate(row):\n",
    "        arow = {'model':mod_list[i], 'dataset':dset_list[j], measure:col+i+j}\n",
    "        rows.append(arow)\n",
    "\n",
    "df = pd.DataFrame(rows)"
   ]
  },
  {
   "cell_type": "code",
   "execution_count": 7,
   "metadata": {},
   "outputs": [
    {
     "data": {
      "text/html": [
       "<div>\n",
       "<style scoped>\n",
       "    .dataframe tbody tr th:only-of-type {\n",
       "        vertical-align: middle;\n",
       "    }\n",
       "\n",
       "    .dataframe tbody tr th {\n",
       "        vertical-align: top;\n",
       "    }\n",
       "\n",
       "    .dataframe thead th {\n",
       "        text-align: right;\n",
       "    }\n",
       "</style>\n",
       "<table border=\"1\" class=\"dataframe\">\n",
       "  <thead>\n",
       "    <tr style=\"text-align: right;\">\n",
       "      <th></th>\n",
       "      <th>model</th>\n",
       "      <th>dataset</th>\n",
       "      <th>accuracy</th>\n",
       "    </tr>\n",
       "  </thead>\n",
       "  <tbody>\n",
       "    <tr>\n",
       "      <th>0</th>\n",
       "      <td>model1</td>\n",
       "      <td>dataset1</td>\n",
       "      <td>0.744314</td>\n",
       "    </tr>\n",
       "    <tr>\n",
       "      <th>1</th>\n",
       "      <td>model1</td>\n",
       "      <td>dataset2</td>\n",
       "      <td>1.289728</td>\n",
       "    </tr>\n",
       "    <tr>\n",
       "      <th>2</th>\n",
       "      <td>model1</td>\n",
       "      <td>dataset3</td>\n",
       "      <td>2.144266</td>\n",
       "    </tr>\n",
       "    <tr>\n",
       "      <th>3</th>\n",
       "      <td>model1</td>\n",
       "      <td>dataset4</td>\n",
       "      <td>3.557296</td>\n",
       "    </tr>\n",
       "    <tr>\n",
       "      <th>4</th>\n",
       "      <td>model1</td>\n",
       "      <td>dataset5</td>\n",
       "      <td>4.591546</td>\n",
       "    </tr>\n",
       "  </tbody>\n",
       "</table>\n",
       "</div>"
      ],
      "text/plain": [
       "    model   dataset  accuracy\n",
       "0  model1  dataset1  0.744314\n",
       "1  model1  dataset2  1.289728\n",
       "2  model1  dataset3  2.144266\n",
       "3  model1  dataset4  3.557296\n",
       "4  model1  dataset5  4.591546"
      ]
     },
     "execution_count": 7,
     "metadata": {},
     "output_type": "execute_result"
    }
   ],
   "source": [
    "df.head(5)"
   ]
  },
  {
   "cell_type": "code",
   "execution_count": 8,
   "metadata": {},
   "outputs": [
    {
     "name": "stdout",
     "output_type": "stream",
     "text": [
      "Critical Difference Object Created\n",
      "['model1' 'model2' 'model3' 'model4' 'model5' 'model6']\n",
      "model1     0.0\n",
      "model2     0.0\n",
      "model3     0.0\n",
      "model4     0.0\n",
      "model5     0.0\n",
      "model6    46.0\n",
      "dtype: float64\n",
      "model1    6.0\n",
      "model2    5.0\n",
      "model3    4.0\n",
      "model4    3.0\n",
      "model5    2.0\n",
      "model6    1.0\n",
      "dtype: float64\n",
      "('model1', 'model2', 3.5229504763988177e-09, True)\n",
      "('model1', 'model3', 3.5229504763988177e-09, True)\n",
      "('model1', 'model4', 3.5229504763988177e-09, True)\n",
      "('model1', 'model5', 3.5229504763988177e-09, True)\n",
      "('model1', 'model6', 3.5229504763988177e-09, True)\n",
      "('model2', 'model3', 3.5229504763988177e-09, True)\n",
      "('model2', 'model4', 3.5229504763988177e-09, True)\n",
      "('model2', 'model5', 3.5229504763988177e-09, True)\n",
      "('model2', 'model6', 3.5229504763988177e-09, True)\n",
      "('model3', 'model4', 3.5229504763988177e-09, True)\n",
      "('model3', 'model5', 3.5229504763988177e-09, True)\n",
      "('model3', 'model6', 3.5229504763988177e-09, True)\n",
      "('model4', 'model5', 3.5229504763988177e-09, True)\n",
      "('model4', 'model6', 3.5229504763988177e-09, True)\n",
      "('model5', 'model6', 3.5229504763988177e-09, True)\n",
      "Index(['model1', 'model2', 'model3', 'model4', 'model5', 'model6'], dtype='object')\n"
     ]
    }
   ],
   "source": [
    "cd = CriticalDifference()\n",
    "cd.draw_cd_diagram(df_perf=df, title='Measure', labels=True)"
   ]
  },
  {
   "cell_type": "code",
   "execution_count": 9,
   "metadata": {},
   "outputs": [
    {
     "data": {
      "image/png": "[encoded data removed]",
      "text/plain": [
       "<IPython.core.display.Image object>"
      ]
     },
     "execution_count": 9,
     "metadata": {},
     "output_type": "execute_result"
    }
   ],
   "source": [
    "from IPython.display import Image\n",
    "Image(\"cd-diagram.png\")"
   ]
  }
 ],
 "metadata": {
  "kernelspec": {
   "display_name": "Python 3",
   "language": "python",
   "name": "python3"
  },
  "language_info": {
   "codemirror_mode": {
    "name": "ipython",
    "version": 3
   },
   "file_extension": ".py",
   "mimetype": "text/x-python",
   "name": "python",
   "nbconvert_exporter": "python",
   "pygments_lexer": "ipython3",
   "version": "3.7.6"
  }
 },
 "nbformat": 4,
 "nbformat_minor": 4
}
